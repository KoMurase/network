{
  "nbformat": 4,
  "nbformat_minor": 0,
  "metadata": {
    "colab": {
      "name": "リンク予測_embedding.ipynb",
      "provenance": [],
      "authorship_tag": "ABX9TyOH+7uLNcQR9FlFcH9ekaJO",
      "include_colab_link": true
    },
    "kernelspec": {
      "name": "python3",
      "display_name": "Python 3"
    }
  },
  "cells": [
    {
      "cell_type": "markdown",
      "metadata": {
        "id": "view-in-github",
        "colab_type": "text"
      },
      "source": [
        "<a href=\"https://colab.research.google.com/github/KoMurase/network/blob/master/%E3%83%AA%E3%83%B3%E3%82%AF%E4%BA%88%E6%B8%AC_embedding.ipynb\" target=\"_parent\"><img src=\"https://colab.research.google.com/assets/colab-badge.svg\" alt=\"Open In Colab\"/></a>"
      ]
    },
    {
      "cell_type": "markdown",
      "metadata": {
        "id": "9orIla65nEUQ",
        "colab_type": "text"
      },
      "source": [
        "#newtwork embedding を使ったリンク予測\n"
      ]
    },
    {
      "cell_type": "code",
      "metadata": {
        "id": "Hc-8y6YomZ6y",
        "colab_type": "code",
        "colab": {}
      },
      "source": [
        "import networkx as nx \n",
        "import matplotlib.pyplot as plt\n",
        "import random \n",
        "from gensim.models import Word2Vec"
      ],
      "execution_count": 30,
      "outputs": []
    },
    {
      "cell_type": "code",
      "metadata": {
        "id": "ow0ZyYMttOS4",
        "colab_type": "code",
        "colab": {}
      },
      "source": [
        "#ランダムウォークの長さ分，各頂点のベクトル表現を得る\n",
        "def make_random_walks(G, num_of_walk, length_of_walk):\n",
        "  walks = []\n",
        "\n",
        "  for i in range(num_of_walk):\n",
        "    node_list = list(G.nodes())\n",
        "\n",
        "    for node in node_list:\n",
        "      current_node = node \n",
        "      walk = []\n",
        "      walk.append(str(node))\n",
        "\n",
        "      for j in range(length_of_walk):\n",
        "        next_node = random.choice(list(G.neighbors(current_node)))\n",
        "        walk.append(str(next_node))\n",
        "        current_node = node \n",
        "      walks.append(walk)\n",
        "\n",
        "  return walks "
      ],
      "execution_count": 31,
      "outputs": []
    },
    {
      "cell_type": "code",
      "metadata": {
        "id": "8Fp19GPvtOPg",
        "colab_type": "code",
        "colab": {}
      },
      "source": [
        "G = nx.karate_club_graph() \n",
        "walks = make_random_walks(G, 100, 20 )"
      ],
      "execution_count": 45,
      "outputs": []
    },
    {
      "cell_type": "code",
      "metadata": {
        "id": "9Uquq4hnNfmF",
        "colab_type": "code",
        "colab": {}
      },
      "source": [
        "model = Word2Vec(walks, min_count=0,size=2, window=5,  workers=1)"
      ],
      "execution_count": 46,
      "outputs": []
    },
    {
      "cell_type": "code",
      "metadata": {
        "id": "JJuKsexStONg",
        "colab_type": "code",
        "colab": {
          "base_uri": "https://localhost:8080/",
          "height": 265
        },
        "outputId": "62f674d4-5621-4b02-9df0-fb1eae43da78"
      },
      "source": [
        "x = list()\n",
        "y = list() \n",
        "node_list = list()\n",
        "colors = list() \n",
        "fig, ax = plt.subplots() \n",
        "for node in G.nodes():\n",
        "  vector = model.wv[str(node)]\n",
        "  x.append(vector[0])\n",
        "  y.append(vector[1])\n",
        "  ax.annotate(str(node), (vector[0], vector[1]))\n",
        "  if G.nodes[node][\"club\"] == 'Officer':\n",
        "    colors.append(\"r\")\n",
        "  else:\n",
        "    colors.append(\"b\")\n",
        "for i in range(len(x)):\n",
        "  ax.scatter(x[i], y[i], c=colors[i])\n",
        "plt.show()"
      ],
      "execution_count": 47,
      "outputs": [
        {
          "output_type": "display_data",
          "data": {
            "image/png": "[encoded data removed]",
            "text/plain": [
              "<Figure size 432x288 with 1 Axes>"
            ]
          },
          "metadata": {
            "tags": [],
            "needs_background": "light"
          }
        }
      ]
    },
    {
      "cell_type": "code",
      "metadata": {
        "id": "K02pvGTmtOKk",
        "colab_type": "code",
        "colab": {}
      },
      "source": [
        ""
      ],
      "execution_count": 38,
      "outputs": []
    },
    {
      "cell_type": "code",
      "metadata": {
        "id": "qF41h72ZtOJd",
        "colab_type": "code",
        "colab": {}
      },
      "source": [
        ""
      ],
      "execution_count": null,
      "outputs": []
    },
    {
      "cell_type": "code",
      "metadata": {
        "id": "yZ35gx5JtOG2",
        "colab_type": "code",
        "colab": {}
      },
      "source": [
        ""
      ],
      "execution_count": null,
      "outputs": []
    },
    {
      "cell_type": "code",
      "metadata": {
        "id": "AOOy7X8EtOF6",
        "colab_type": "code",
        "colab": {}
      },
      "source": [
        ""
      ],
      "execution_count": null,
      "outputs": []
    },
    {
      "cell_type": "code",
      "metadata": {
        "id": "xDed9V-ytODb",
        "colab_type": "code",
        "colab": {}
      },
      "source": [
        ""
      ],
      "execution_count": null,
      "outputs": []
    },
    {
      "cell_type": "code",
      "metadata": {
        "id": "lYUL0Cd3tOBq",
        "colab_type": "code",
        "colab": {}
      },
      "source": [
        ""
      ],
      "execution_count": null,
      "outputs": []
    },
    {
      "cell_type": "code",
      "metadata": {
        "id": "mhOhqYgCtN_H",
        "colab_type": "code",
        "colab": {}
      },
      "source": [
        ""
      ],
      "execution_count": null,
      "outputs": []
    },
    {
      "cell_type": "code",
      "metadata": {
        "id": "NTZRR-tttN92",
        "colab_type": "code",
        "colab": {}
      },
      "source": [
        ""
      ],
      "execution_count": null,
      "outputs": []
    }
  ]
}